{
 "cells": [
  {
   "cell_type": "markdown",
   "metadata": {},
   "source": [
    "Возьмём код с семинара и добавим возможность менять $\\alpha$ со временем"
   ]
  },
  {
   "cell_type": "code",
   "execution_count": 74,
   "metadata": {
    "collapsed": true
   },
   "outputs": [],
   "source": [
    "## based on http://inst.eecs.berkeley.edu/~cs188/sp09/pacman.html\n",
    "\n",
    "import random,math\n",
    "\n",
    "import numpy as np\n",
    "from collections import defaultdict\n",
    "\n",
    "class QLearningAgent:\n",
    "    \"\"\"\n",
    "    Q-Learning Agent\n",
    "    Instance variables you have access to\n",
    "      - self.epsilon (exploration prob)\n",
    "      - self.alpha (learning rate)\n",
    "      - self.discount (discount rate aka gamma)\n",
    "    Functions you should use\n",
    "      - self.getLegalActions(state)\n",
    "        which returns legal actions for a state\n",
    "      - self.getQValue(state,action)\n",
    "        which returns Q(state,action)\n",
    "      - self.setQValue(state,action,value)\n",
    "        which sets Q(state,action) := value\n",
    "    \n",
    "    !!!Important!!!\n",
    "    NOTE: please avoid using self._qValues directly to make code cleaner\n",
    "    \"\"\"\n",
    "    def __init__(self,alpha,epsilon,discount,getLegalActions,\n",
    "                 alpha_changer_functor = None):\n",
    "        \"We initialize agent and Q-values here.\"\n",
    "        self.getLegalActions= getLegalActions\n",
    "        self._qValues = defaultdict(lambda:defaultdict(lambda:0))\n",
    "        self.alpha = alpha\n",
    "        self.epsilon = epsilon\n",
    "        self.discount = discount\n",
    "        self.alpha_changer = None\n",
    "        if alpha_changer_functor is not None:\n",
    "            self.alpha_changer = alpha_changer_functor()\n",
    "\n",
    "    def getQValue(self, state, action):\n",
    "        \"\"\"\n",
    "          Returns Q(state,action)\n",
    "        \"\"\"\n",
    "        return self._qValues[state][action]\n",
    "\n",
    "    def setQValue(self,state,action,value):\n",
    "        \"\"\"\n",
    "          Sets the Qvalue for [state,action] to the given value\n",
    "        \"\"\"\n",
    "        self._qValues[state][action] = value\n",
    "\n",
    "#---------------------#start of your code#---------------------#\n",
    "\n",
    "    def getValue(self, state):\n",
    "        \"\"\"\n",
    "          Returns max_action Q(state,action)\n",
    "          where the max is over legal actions.\n",
    "        \"\"\"\n",
    "\n",
    "        possibleActions = self.getLegalActions(state)\n",
    "        #If there are no legal actions, return 0.0\n",
    "        if len(possibleActions) == 0:\n",
    "            return 0.0\n",
    "\n",
    "        \"*** YOUR CODE HERE ***\"\n",
    "        return np.max(np.array(\n",
    "            map(lambda action: self.getQValue(state, action), possibleActions)))\n",
    "    \n",
    "    def getPolicy(self, state):\n",
    "        \"\"\"\n",
    "          Compute the best action to take in a state. \n",
    "\n",
    "        \"\"\"\n",
    "        possibleActions = self.getLegalActions(state)\n",
    "\n",
    "        #If there are no legal actions, return None\n",
    "        if len(possibleActions) == 0:\n",
    "            return None\n",
    "\n",
    "        best_action = None\n",
    "\n",
    "        \"*** YOUR CODE HERE ***\"\n",
    "        best_action = possibleActions[\n",
    "            np.argmax(np.array(map(lambda action: self.getQValue(state, action), possibleActions)))]\n",
    "        return best_action\n",
    "\n",
    "    def getAction(self, state):\n",
    "        \"\"\"\n",
    "          Compute the action to take in the current state, including exploration.  \n",
    "\n",
    "          With probability self.epsilon, we should take a random action.\n",
    "          otherwise - the best policy action (self.getPolicy).\n",
    "          HINT: You might want to use util.flipCoin(prob)\n",
    "          HINT: To pick randomly from a list, use random.choice(list)\n",
    "        \"\"\"\n",
    "\n",
    "        # Pick Action\n",
    "        possibleActions = self.getLegalActions(state)\n",
    "        action = None\n",
    "\n",
    "        #If there are no legal actions, return None\n",
    "        if len(possibleActions) == 0:\n",
    "            return None\n",
    "\n",
    "        #agent parameters:\n",
    "        epsilon = self.epsilon\n",
    "\n",
    "        \"*** YOUR CODE HERE ***\"\n",
    "        \n",
    "        # return <put agent's action here>\n",
    "        random_action = np.random.choice(np.array(possibleActions), 1)\n",
    "        random_threshold = np.random.uniform(low = 0, high = 1)\n",
    "        if random_threshold < self.epsilon:\n",
    "            return random_action[0]\n",
    "        else:\n",
    "            return self.getPolicy(state)\n",
    "        \n",
    "\n",
    "    def update(self, state, action, nextState, reward):\n",
    "        \"\"\"\n",
    "          You should do your Q-Value update here\n",
    "          NOTE: You should never call this function,\n",
    "          it will be called on your behalf\n",
    "        \"\"\"\n",
    "        #agent parameters\n",
    "        gamma = self.discount\n",
    "        learning_rate = self.alpha\n",
    "\n",
    "        \"*** YOUR CODE HERE ***\"\n",
    "        reference_qvalue = reward + gamma * self.getValue(nextState)\n",
    "        #reference_qvalue = <the \"correct state value\", uses reward and the value of next state>\n",
    "\n",
    "        updated_qvalue = (1-learning_rate) * self.getQValue(state,action) + learning_rate * reference_qvalue\n",
    "        self.setQValue(state,action,updated_qvalue)\n",
    "        if self.alpha_changer is not None:\n",
    "            self.alpha = self.alpha_changer()\n",
    "\n",
    "#---------------------#end of your code#---------------------#"
   ]
  },
  {
   "cell_type": "code",
   "execution_count": 75,
   "metadata": {
    "collapsed": true
   },
   "outputs": [],
   "source": [
    "#XVFB will be launched if you run on a server\n",
    "import os\n",
    "if type(os.environ.get(\"DISPLAY\")) is not str or len(os.environ.get(\"DISPLAY\"))==0:\n",
    "    !bash ../xvfb start\n",
    "    %env DISPLAY=:1\n",
    "\n",
    "import numpy as np\n",
    "import matplotlib.pyplot as plt\n",
    "%matplotlib inline\n",
    "from IPython.display import clear_output"
   ]
  },
  {
   "cell_type": "code",
   "execution_count": 76,
   "metadata": {},
   "outputs": [
    {
     "name": "stderr",
     "output_type": "stream",
     "text": [
      "[2018-01-28 16:01:46,989] Making new env: Taxi-v2\n"
     ]
    }
   ],
   "source": [
    "import gym\n",
    "env = gym.make(\"Taxi-v2\")\n",
    "\n",
    "n_actions = env.action_space.n"
   ]
  },
  {
   "cell_type": "markdown",
   "metadata": {},
   "source": [
    "Мы сделаем $\\alpha$ убывающим со временем. При этом он будет убывать разрывно, ибо вначале $\\alpha$ требуется большим для обновления значений qValues максимально эффективно. $\\varesilon$ тоже повысим, чтобы просматривать больше вариантов вначале, при этом уменьшать её, аналогично $\\alpha$ будем не на каждом шаге."
   ]
  },
  {
   "cell_type": "code",
   "execution_count": 226,
   "metadata": {
    "collapsed": true
   },
   "outputs": [],
   "source": [
    "class step_reciproc_alpha_changer:\n",
    "    def __init__(self):\n",
    "        self.step_num = 1.\n",
    "    def __call__(self):\n",
    "        self.step_num += 1\n",
    "        scaler = float(int(self.step_num/1500))*0.3 + 1.5\n",
    "        return 1./scaler\n",
    "        \n",
    "\n",
    "agent = QLearningAgent(alpha=0.5,epsilon=0.6,discount=0.9999,\n",
    "                       getLegalActions = lambda s: range(n_actions),\n",
    "                       alpha_changer_functor = step_reciproc_alpha_changer)\n"
   ]
  },
  {
   "cell_type": "markdown",
   "metadata": {},
   "source": [
    "В следующей функции число итераций увеличим"
   ]
  },
  {
   "cell_type": "code",
   "execution_count": 227,
   "metadata": {
    "collapsed": true
   },
   "outputs": [],
   "source": [
    "def play_and_train(env,agent,t_max=10**5):\n",
    "    \"\"\"This function should \n",
    "    - run a full game, actions given by agent.getAction(s)\n",
    "    - train agent using agent.update(...) whenever possible\n",
    "    - return total reward\"\"\"\n",
    "    total_reward = 0.0\n",
    "    s = env.reset()\n",
    "    \n",
    "    for t in range(t_max):\n",
    "        #a = <get agent to pick action given state s>\n",
    "        a = agent.getAction(s)\n",
    "        \n",
    "        next_s,r,done,prob = env.step(a)\n",
    "        \n",
    "        #<train(update) agent for state s>\n",
    "        agent.update(s,a,next_s,r)\n",
    "        \n",
    "        s = next_s\n",
    "        total_reward +=r\n",
    "        if done:\n",
    "            break\n",
    "        \n",
    "    return total_reward"
   ]
  },
  {
   "cell_type": "markdown",
   "metadata": {},
   "source": [
    "Чтобы исключить влияние случайности, будем брать среднюю награду по 20 последним play_and_train. При этом будем считать средний скор по 100 независимым запускам всего процесса. Напишем конечную $\\varepsilon$ (одинаковая во всех запусках) и график для одного запуска. В конце напишем средний скор для 100 запусков и их гистограмму"
   ]
  },
  {
   "cell_type": "code",
   "execution_count": 230,
   "metadata": {},
   "outputs": [
    {
     "name": "stdout",
     "output_type": "stream",
     "text": [
      "1e-06\n"
     ]
    },
    {
     "data": {
      "image/png": "[encoded data removed]",
      "text/plain": [
       "<matplotlib.figure.Figure at 0x7fb1a84d44d0>"
      ]
     },
     "metadata": {},
     "output_type": "display_data"
    },
    {
     "data": {
      "image/png": "[encoded data removed]",
      "text/plain": [
       "<matplotlib.figure.Figure at 0x7fb1b244ae10>"
      ]
     },
     "metadata": {},
     "output_type": "display_data"
    },
    {
     "name": "stdout",
     "output_type": "stream",
     "text": [
      "8.401\n"
     ]
    }
   ],
   "source": [
    "def make_one_score():\n",
    "    agent = QLearningAgent(alpha=0.6,epsilon=0.6,discount=0.9999,\n",
    "                       getLegalActions = lambda s: range(n_actions),\n",
    "                       alpha_changer_functor = step_reciproc_alpha_changer)\n",
    "    rewards = []\n",
    "    for i in range(2000):\n",
    "        rewards.append(play_and_train(env,agent))\n",
    "\n",
    "        if i % 100 == 0:\n",
    "            agent.epsilon = max(agent.epsilon * 0.3, 1e-6)\n",
    "\n",
    "        if i %500 ==499:\n",
    "            clear_output(True)\n",
    "            print agent.epsilon\n",
    "            plt.plot(rewards)\n",
    "            plt.show()\n",
    "    return np.mean(rewards[-20:])\n",
    "\n",
    "scores = np.array([make_one_score() for _ in range(100)])\n",
    "plt.hist(scores, bins = 10)\n",
    "plt.ylabel('Score')\n",
    "plt.title('100 independent launch scores to exlude randomness')\n",
    "plt.show()\n",
    "print np.mean(scores)"
   ]
  },
  {
   "cell_type": "code",
   "execution_count": null,
   "metadata": {
    "collapsed": true
   },
   "outputs": [],
   "source": []
  }
 ],
 "metadata": {
  "kernelspec": {
   "display_name": "Python 2",
   "language": "python",
   "name": "python2"
  },
  "language_info": {
   "codemirror_mode": {
    "name": "ipython",
    "version": 2
   },
   "file_extension": ".py",
   "mimetype": "text/x-python",
   "name": "python",
   "nbconvert_exporter": "python",
   "pygments_lexer": "ipython2",
   "version": "2.7.12"
  }
 },
 "nbformat": 4,
 "nbformat_minor": 2
}
