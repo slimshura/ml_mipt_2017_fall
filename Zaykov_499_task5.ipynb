{
 "cells": [
  {
   "cell_type": "markdown",
   "metadata": {},
   "source": [
    "Просто возьмём семинарский ноутбук и напишем то небольшое число строк, которое требуют. В одном месте только потребовалось в уже реализованной функции указать allow_input_downcast = True. $\\varepsilon$ сделаем побольше, чтобы вначале exploration был нормальным, но будем быстрее уменьшать раз в пять итераций"
   ]
  },
  {
   "cell_type": "code",
   "execution_count": 1,
   "metadata": {},
   "outputs": [
    {
     "name": "stdout",
     "output_type": "stream",
     "text": [
      "Requirement already satisfied: theano==0.7 in /home/gipsokarton/miniconda/envs/py34/lib/python3.4/site-packages\n",
      "Requirement already satisfied: scipy>=0.11 in /home/gipsokarton/miniconda/envs/py34/lib/python3.4/site-packages (from theano==0.7)\n",
      "Requirement already satisfied: numpy>=1.6.2 in /home/gipsokarton/miniconda/envs/py34/lib/python3.4/site-packages (from theano==0.7)\n"
     ]
    }
   ],
   "source": [
    "! /home/gipsokarton/miniconda/envs/py34/bin/pip install theano==0.7"
   ]
  },
  {
   "cell_type": "code",
   "execution_count": 2,
   "metadata": {
    "scrolled": false
   },
   "outputs": [
    {
     "name": "stdout",
     "output_type": "stream",
     "text": [
      "Fetching package metadata: ......\n",
      "Solving package specifications: .........\n",
      "\n",
      "# All requested packages already installed.\n",
      "# packages in environment at /home/gipsokarton/miniconda/envs/py34:\n",
      "#\n",
      "pybox2d                   2.3.1post2               py34_0    kne\n"
     ]
    }
   ],
   "source": [
    "! conda install -c https://conda.anaconda.org/kne pybox2d --yes"
   ]
  },
  {
   "cell_type": "code",
   "execution_count": 120,
   "metadata": {},
   "outputs": [
    {
     "name": "stdout",
     "output_type": "stream",
     "text": [
      "env: THEANO_FLAGS='floatX=float32'\n"
     ]
    }
   ],
   "source": [
    "%env THEANO_FLAGS='floatX=float32'\n",
    "import os\n",
    "if type(os.environ.get(\"DISPLAY\")) is not str or len(os.environ.get(\"DISPLAY\"))==0:\n",
    "    !bash ../xvfb start\n",
    "    %env DISPLAY=:1\n",
    "\n"
   ]
  },
  {
   "cell_type": "code",
   "execution_count": 121,
   "metadata": {},
   "outputs": [],
   "source": [
    "import gym\n",
    "import numpy as np, pandas as pd\n",
    "import matplotlib.pyplot as plt\n",
    "%matplotlib inline"
   ]
  },
  {
   "cell_type": "code",
   "execution_count": 122,
   "metadata": {},
   "outputs": [
    {
     "name": "stderr",
     "output_type": "stream",
     "text": [
      "[2018-01-29 20:45:00,758] Making new env: LunarLander-v2\n"
     ]
    },
    {
     "data": {
      "text/plain": [
       "<matplotlib.image.AxesImage at 0x7f312cc25860>"
      ]
     },
     "execution_count": 122,
     "metadata": {},
     "output_type": "execute_result"
    },
    {
     "data": {
      "image/png": "[encoded data removed]",
      "text/plain": [
       "<matplotlib.figure.Figure at 0x7f312cd9bda0>"
      ]
     },
     "metadata": {},
     "output_type": "display_data"
    }
   ],
   "source": [
    "env = gym.make(\"LunarLander-v2\")\n",
    "env.reset()\n",
    "n_actions = env.action_space.n\n",
    "state_dim = env.observation_space.shape\n",
    "plt.imshow(env.render(\"rgb_array\"))"
   ]
  },
  {
   "cell_type": "code",
   "execution_count": 123,
   "metadata": {},
   "outputs": [],
   "source": [
    "import lasagne\n",
    "from lasagne.layers import *\n",
    "import theano\n",
    "import theano.tensor as T\n",
    "\n",
    "#create input variables. We'll support multiple states at once\n",
    "\n",
    "\n",
    "current_states = T.matrix(\"states[batch,units]\")\n",
    "actions = T.ivector(\"action_ids[batch]\")\n",
    "rewards = T.vector(\"rewards[batch]\")\n",
    "next_states = T.matrix(\"next states[batch,units]\")\n",
    "is_end = T.ivector(\"vector[batch] where 1 means that session just ended\")"
   ]
  },
  {
   "cell_type": "code",
   "execution_count": 124,
   "metadata": {},
   "outputs": [],
   "source": [
    "\n",
    "\n",
    "#input layer\n",
    "l_states = InputLayer((None,)+state_dim)\n",
    "\n",
    "\n",
    "#<Your architecture. Please start with a single-layer network>\n",
    "l_hidden = DenseLayer(l_states, 100)\n",
    "\n",
    "#output layer\n",
    "l_qvalues = DenseLayer(l_hidden, num_units=n_actions,nonlinearity=None)"
   ]
  },
  {
   "cell_type": "code",
   "execution_count": 125,
   "metadata": {
    "collapsed": true
   },
   "outputs": [],
   "source": [
    "#get q-values for ALL actions in current_states\n",
    "predicted_qvalues = get_output(l_qvalues,{l_states:current_states})"
   ]
  },
  {
   "cell_type": "code",
   "execution_count": 126,
   "metadata": {},
   "outputs": [],
   "source": [
    "#compiling agent's \"GetQValues\" function\n",
    "get_qvalues = theano.function([current_states], predicted_qvalues, allow_input_downcast=True)\n",
    "#<compile a function that takes current_states and returns predicted_qvalues>"
   ]
  },
  {
   "cell_type": "code",
   "execution_count": 127,
   "metadata": {
    "collapsed": true
   },
   "outputs": [],
   "source": [
    "#select q-values for chosen actions\n",
    "predicted_qvalues_for_actions = predicted_qvalues[T.arange(actions.shape[0]),actions]"
   ]
  },
  {
   "cell_type": "code",
   "execution_count": 128,
   "metadata": {},
   "outputs": [],
   "source": [
    "#predict q-values for next states\n",
    "predicted_next_qvalues = get_output(l_qvalues,{l_states:next_states})\n",
    "\n",
    "\n",
    "#Computing target q-values under \n",
    "gamma = 0.99\n",
    "target_qvalues_for_actions = rewards + gamma * predicted_next_qvalues.max(axis=1)\n",
    "\n",
    "#zero-out q-values at the end\n",
    "target_qvalues_for_actions = (1-is_end)*target_qvalues_for_actions\n",
    "\n",
    "#don't compute gradient over target q-values (consider constant)\n",
    "target_qvalues_for_actions = theano.gradient.disconnected_grad(target_qvalues_for_actions)"
   ]
  },
  {
   "cell_type": "code",
   "execution_count": 129,
   "metadata": {},
   "outputs": [],
   "source": [
    "#mean squared error loss function\n",
    "loss = ((target_qvalues_for_actions - predicted_qvalues_for_actions)**2).mean()\n"
   ]
  },
  {
   "cell_type": "code",
   "execution_count": 130,
   "metadata": {},
   "outputs": [],
   "source": [
    "#all network weights\n",
    "all_weights = get_all_params(l_qvalues,trainable=True)\n",
    "\n",
    "#network updates. Note the small learning rate (for stability)\n",
    "updates = lasagne.updates.sgd(loss,all_weights,learning_rate=1e-4)"
   ]
  },
  {
   "cell_type": "code",
   "execution_count": 131,
   "metadata": {},
   "outputs": [],
   "source": [
    "#Training function that resembles agent.update(state,action,reward,next_state) \n",
    "#with 1 more argument meaning is_end\n",
    "train_step = theano.function([current_states,actions,rewards,next_states,is_end],\n",
    "                             updates=updates, allow_input_downcast=True)"
   ]
  },
  {
   "cell_type": "code",
   "execution_count": 132,
   "metadata": {},
   "outputs": [],
   "source": [
    "epsilon = 0.7 #initial epsilon\n",
    "\n",
    "def generate_session(t_max=1000):\n",
    "    \"\"\"play env with approximate q-learning agent and train it at the same time\"\"\"\n",
    "    \n",
    "    total_reward = 0\n",
    "    s = env.reset()\n",
    "    \n",
    "    for t in range(t_max):\n",
    "        \n",
    "        #get action q-values from the network\n",
    "        q_values = get_qvalues([s])[0] \n",
    "        \n",
    "        a = q_values.argmax()\n",
    "        if np.random.random() < epsilon:\n",
    "            a = np.random.randint(0, n_actions)\n",
    "        #a = <sample action with epsilon-greedy strategy>\n",
    "        \n",
    "        new_s,r,done,info = env.step(a)\n",
    "        \n",
    "        #train agent one step. Note that we use one-element arrays instead of scalars \n",
    "        #because that's what function accepts.\n",
    "        train_step([s],[a],[r],[new_s],[done])\n",
    "        \n",
    "        total_reward+=r\n",
    "        \n",
    "        s = new_s\n",
    "        if done: break\n",
    "            \n",
    "    return total_reward"
   ]
  },
  {
   "cell_type": "code",
   "execution_count": 133,
   "metadata": {},
   "outputs": [
    {
     "name": "stdout",
     "output_type": "stream",
     "text": [
      "mean reward:-236.754\tepsilon:0.70000\n",
      "mean reward:-211.452\tepsilon:0.70000\n",
      "mean reward:-223.412\tepsilon:0.70000\n",
      "mean reward:-217.201\tepsilon:0.70000\n",
      "mean reward:-177.073\tepsilon:0.42000\n",
      "mean reward:-227.835\tepsilon:0.42000\n",
      "mean reward:-231.992\tepsilon:0.42000\n",
      "mean reward:-196.155\tepsilon:0.42000\n",
      "mean reward:-159.974\tepsilon:0.42000\n",
      "mean reward:-126.837\tepsilon:0.25200\n",
      "mean reward:-125.167\tepsilon:0.25200\n",
      "mean reward:-122.763\tepsilon:0.25200\n",
      "mean reward:-72.183\tepsilon:0.25200\n",
      "mean reward:-40.103\tepsilon:0.25200\n",
      "mean reward:-46.813\tepsilon:0.15120\n",
      "mean reward:-81.194\tepsilon:0.15120\n",
      "mean reward:-115.417\tepsilon:0.15120\n",
      "mean reward:-137.747\tepsilon:0.15120\n",
      "mean reward:-55.413\tepsilon:0.15120\n",
      "mean reward:-53.032\tepsilon:0.09072\n",
      "mean reward:-30.231\tepsilon:0.09072\n",
      "mean reward:13.222\tepsilon:0.09072\n",
      "mean reward:-1.473\tepsilon:0.09072\n",
      "mean reward:49.774\tepsilon:0.09072\n",
      "mean reward:37.517\tepsilon:0.05443\n",
      "mean reward:39.622\tepsilon:0.05443\n",
      "mean reward:90.634\tepsilon:0.05443\n",
      "mean reward:7.162\tepsilon:0.05443\n",
      "mean reward:-20.764\tepsilon:0.05443\n"
     ]
    }
   ],
   "source": [
    "for i in range(29):\n",
    "    \n",
    "    rewards = [generate_session() for _ in range(100)] #generate new sessions\n",
    "    \n",
    "    if i% 5 == 4:\n",
    "        epsilon*=0.6\n",
    "    \n",
    "    print (\"mean reward:%.3f\\tepsilon:%.5f\"%(np.mean(rewards),epsilon))\n",
    "\n",
    "    if np.mean(rewards) > 300:\n",
    "        print (\"You Win!\")\n",
    "        break\n",
    "        \n",
    "    assert epsilon!=0, \"Please explore environment\"\n"
   ]
  },
  {
   "cell_type": "markdown",
   "metadata": {},
   "source": [
    "Средний счёт за последние 5 итераций больше нуля (что, вроде, примерно и требовалось). На этом и остановимся"
   ]
  },
  {
   "cell_type": "code",
   "execution_count": 134,
   "metadata": {
    "collapsed": true
   },
   "outputs": [],
   "source": [
    "epsilon=0 #Don't forget to reset epsilon back to initial value if you want to go on training"
   ]
  },
  {
   "cell_type": "code",
   "execution_count": 135,
   "metadata": {},
   "outputs": [
    {
     "name": "stderr",
     "output_type": "stream",
     "text": [
      "[2018-01-29 21:16:57,511] Clearing 12 monitor files from previous run (because force=True was provided)\n",
      "[2018-01-29 21:16:57,630] Starting new video recorder writing to /home/gipsokarton/mipt_ml_dz/videos/openaigym.video.2.5690.video000000.mp4\n",
      "[2018-01-29 21:17:11,122] Starting new video recorder writing to /home/gipsokarton/mipt_ml_dz/videos/openaigym.video.2.5690.video000001.mp4\n",
      "[2018-01-29 21:17:16,175] Starting new video recorder writing to /home/gipsokarton/mipt_ml_dz/videos/openaigym.video.2.5690.video000008.mp4\n",
      "[2018-01-29 21:17:50,051] Starting new video recorder writing to /home/gipsokarton/mipt_ml_dz/videos/openaigym.video.2.5690.video000027.mp4\n",
      "[2018-01-29 21:18:21,456] Starting new video recorder writing to /home/gipsokarton/mipt_ml_dz/videos/openaigym.video.2.5690.video000064.mp4\n",
      "[2018-01-29 21:18:59,988] Finished writing results. You can upload them to the scoreboard via gym.upload('/home/gipsokarton/mipt_ml_dz/videos')\n"
     ]
    }
   ],
   "source": [
    "#record sessions\n",
    "import gym.wrappers\n",
    "env = gym.wrappers.Monitor(env,directory=\"videos\",force=True)\n",
    "sessions = [generate_session() for _ in range(100)]\n",
    "env.close()\n",
    "#unwrap \n",
    "env = env.env.env\n",
    "#upload to gym\n",
    "#gym.upload(\"./videos/\",api_key=\"<your_api_key>\") #you'll need me later\n",
    "\n",
    "#Warning! If you keep seeing error that reads something like\"DoubleWrapError\",\n",
    "#run env=gym.make(\"CartPole-v0\");env.reset();"
   ]
  },
  {
   "cell_type": "code",
   "execution_count": 142,
   "metadata": {},
   "outputs": [
    {
     "data": {
      "text/html": [
       "\n",
       "<video width=\"640\" height=\"480\" controls>\n",
       "  <source src=\"./videos/openaigym.video.2.5690.video000027.mp4\" type=\"video/mp4\">\n",
       "</video>\n"
      ],
      "text/plain": [
       "<IPython.core.display.HTML object>"
      ]
     },
     "execution_count": 142,
     "metadata": {},
     "output_type": "execute_result"
    }
   ],
   "source": [
    "#show video\n",
    "from IPython.display import HTML\n",
    "import os\n",
    "\n",
    "video_names = list(filter(lambda s:s.endswith(\".mp4\"),os.listdir(\"./videos/\")))\n",
    "\n",
    "HTML(\"\"\"\n",
    "<video width=\"640\" height=\"480\" controls>\n",
    "  <source src=\"{}\" type=\"video/mp4\">\n",
    "</video>\n",
    "\"\"\".format(\"./videos/\"+video_names[-1])) #this may or may not be _last_ video. Try other indices"
   ]
  },
  {
   "cell_type": "code",
   "execution_count": null,
   "metadata": {
    "collapsed": true
   },
   "outputs": [],
   "source": []
  }
 ],
 "metadata": {
  "kernelspec": {
   "display_name": "Python 3",
   "language": "python",
   "name": "python3"
  },
  "language_info": {
   "codemirror_mode": {
    "name": "ipython",
    "version": 3
   },
   "file_extension": ".py",
   "mimetype": "text/x-python",
   "name": "python",
   "nbconvert_exporter": "python",
   "pygments_lexer": "ipython3",
   "version": "3.4.5"
  }
 },
 "nbformat": 4,
 "nbformat_minor": 2
}
